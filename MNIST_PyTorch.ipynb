{
 "cells": [
  {
   "cell_type": "code",
   "execution_count": 1,
   "metadata": {},
   "outputs": [],
   "source": [
    "import torch\n",
    "import torchvision"
   ]
  },
  {
   "attachments": {},
   "cell_type": "markdown",
   "metadata": {},
   "source": [
    "# Loading MNIST data"
   ]
  },
  {
   "cell_type": "code",
   "execution_count": 5,
   "metadata": {},
   "outputs": [
    {
     "data": {
      "text/plain": [
       "<torch._C.Generator at 0x12044fd10>"
      ]
     },
     "execution_count": 5,
     "metadata": {},
     "output_type": "execute_result"
    }
   ],
   "source": [
    "#define hyperparameters for model training\n",
    "n_epochs = 3\n",
    "batch_size_train = 64\n",
    "batch_size_test = 1000\n",
    "learning_rate = 0.01\n",
    "momentum = 0.5\n",
    "log_interval = 10\n",
    "\n",
    "random_seed = 100\n",
    "torch.backends.cudnn.enabled = False\n",
    "torch.manual_seed(random_seed)"
   ]
  },
  {
   "cell_type": "code",
   "execution_count": 7,
   "metadata": {},
   "outputs": [],
   "source": [
    "#load MNIST data\n",
    "train_loader = torch.utils.data.DataLoader(\n",
    "    torchvision.datasets.MNIST('./files/', train=True, download=True, transform=torchvision.transforms.Compose([\n",
    "        torchvision.transforms.ToTensor(),\n",
    "        torchvision.transforms.Normalize(\n",
    "            (0.1307,), (0.3081,)\n",
    "        )\n",
    "    ])),\n",
    "    batch_size=batch_size_train, shuffle=True)\n",
    "\n"
   ]
  },
  {
   "cell_type": "code",
   "execution_count": 9,
   "metadata": {},
   "outputs": [],
   "source": [
    "test_loader = torch.utils.data.DataLoader(\n",
    "    torchvision.datasets.MNIST('./files/', train=False, download=True,\n",
    "                               transform=torchvision.transforms.Compose([\n",
    "                                   torchvision.transforms.ToTensor(),\n",
    "                                   torchvision.transforms.Normalize(\n",
    "                                       (0.1307,), (0.3081,))\n",
    "                               ])), batch_size=batch_size_test, shuffle=True)"
   ]
  },
  {
   "cell_type": "code",
   "execution_count": 13,
   "metadata": {},
   "outputs": [],
   "source": [
    "#Looking at hadwritten examples\n",
    "examples = enumerate(test_loader)\n",
    "batch_idx, (example_data, example_targets) = next(examples)"
   ]
  },
  {
   "cell_type": "code",
   "execution_count": 14,
   "metadata": {},
   "outputs": [
    {
     "data": {
      "text/plain": [
       "torch.Size([1000, 1, 28, 28])"
      ]
     },
     "execution_count": 14,
     "metadata": {},
     "output_type": "execute_result"
    }
   ],
   "source": [
    "#shape of one batch size\n",
    "example_data.shape"
   ]
  },
  {
   "cell_type": "code",
   "execution_count": 16,
   "metadata": {},
   "outputs": [
    {
     "data": {
      "image/png": "[encoded data removed]",
      "text/plain": [
       "<Figure size 640x480 with 6 Axes>"
      ]
     },
     "metadata": {},
     "output_type": "display_data"
    }
   ],
   "source": [
    "import matplotlib.pyplot as plt\n",
    "\n",
    "fig = plt.figure()\n",
    "for i in range(6):\n",
    "    plt.subplot(2, 3, i+1)\n",
    "    plt.tight_layout()\n",
    "    plt.imshow(example_data[i][0], cmap='gray', interpolation='none')\n",
    "    plt.title('Label: {}'.format(example_targets[i]))\n",
    "    plt.xticks([])\n",
    "    plt.yticks([])"
   ]
  },
  {
   "attachments": {},
   "cell_type": "markdown",
   "metadata": {},
   "source": [
    "# Building the CNN"
   ]
  },
  {
   "cell_type": "code",
   "execution_count": 17,
   "metadata": {},
   "outputs": [],
   "source": [
    "import torch.nn as nn\n",
    "import torch.nn.functional as F \n",
    "import torch.optim as optim "
   ]
  },
  {
   "cell_type": "code",
   "execution_count": 19,
   "metadata": {},
   "outputs": [],
   "source": [
    "class Net(nn.Module):\n",
    "    def __init__(self):\n",
    "        super(Net, self).__init__()\n",
    "        self.conv1 = nn.Conv2d(1, 10, kernel_size=5)\n",
    "        self.conv2 = nn.Conv2d(10, 20, kernel_size=5)\n",
    "        self.conv2_drop = nn.Dropout2d() \n",
    "        self.fc1 = nn.Linear(320, 50)\n",
    "        self.fc2 = nn.Linear(50, 10)\n",
    "\n",
    "\n",
    "    def forward(self, x):\n",
    "        x = F.relu(F.max_pool2d(self.conv1(x), 2))\n",
    "        x = F.relu(F.max_pool2d(self.conv2_drop(self.conv2(x)), 2))\n",
    "        x = x.view(-1, 320)\n",
    "        x = F.relu(self.fc1(x))\n",
    "        x = F.dropout(x, training=self.training)\n",
    "        x = self.fc2(x)\n",
    "        return F.log_softmax(x)\n"
   ]
  },
  {
   "cell_type": "code",
   "execution_count": 20,
   "metadata": {},
   "outputs": [],
   "source": [
    "network = Net()\n",
    "optimizer = optim.SGD(network.parameters(), lr = learning_rate, momentum=momentum)"
   ]
  },
  {
   "cell_type": "code",
   "execution_count": 25,
   "metadata": {},
   "outputs": [],
   "source": [
    "train_losses = []\n",
    "train_counter = []\n",
    "test_losses = []\n",
    "test_counter = [i * len(train_loader.dataset) for i in range(n_epochs + 1)]"
   ]
  },
  {
   "cell_type": "code",
   "execution_count": 34,
   "metadata": {},
   "outputs": [],
   "source": [
    "def train(epoch):\n",
    "    network.train()\n",
    "    for batch_idx, (data, target) in enumerate(train_loader):\n",
    "        optimizer.zero_grad()\n",
    "        output = network(data)\n",
    "        loss = F.nll_loss(output, target)\n",
    "        loss.backward()\n",
    "        optimizer.step()\n",
    "        if batch_idx % log_interval == 0:\n",
    "            print('Train Epoch: {} [{}/{} ({:.0f}%)]\\tLoss: {:.6f}'.format(\n",
    "                epoch, batch_idx * len(data), len(train_loader.dataset),\n",
    "                100. * batch_idx / len(train_loader), loss.item()))\n",
    "            train_losses.append(loss.item())\n",
    "            train_counter.append(\n",
    "                (batch_idx*64) + ((epoch-1)*len(train_loader.dataset)))\n",
    "            torch.save(network.state_dict(), './results/model.pth')\n",
    "            torch.save(optimizer.state_dict(), './results/optimizer.pth')"
   ]
  },
  {
   "cell_type": "code",
   "execution_count": 26,
   "metadata": {},
   "outputs": [],
   "source": [
    "def test():\n",
    "  network.eval()\n",
    "  test_loss = 0\n",
    "  correct = 0\n",
    "  with torch.no_grad():\n",
    "    for data, target in test_loader:\n",
    "      output = network(data)\n",
    "      test_loss += F.nll_loss(output, target, size_average=False).item()\n",
    "      pred = output.data.max(1, keepdim=True)[1]\n",
    "      correct += pred.eq(target.data.view_as(pred)).sum()\n",
    "  test_loss /= len(test_loader.dataset)\n",
    "  test_losses.append(test_loss)\n",
    "  print('\\nTest set: Avg. loss: {:.4f}, Accuracy: {}/{} ({:.0f}%)\\n'.format(\n",
    "    test_loss, correct, len(test_loader.dataset),\n",
    "    100. * correct / len(test_loader.dataset)))"
   ]
  },
  {
   "cell_type": "code",
   "execution_count": 35,
   "metadata": {},
   "outputs": [
    {
     "name": "stderr",
     "output_type": "stream",
     "text": [
      "/var/folders/9t/ywq9gg3s4zbgn2zw5tfskbv00000gn/T/ipykernel_66225/410077737.py:18: UserWarning: Implicit dimension choice for log_softmax has been deprecated. Change the call to include dim=X as an argument.\n",
      "  return F.log_softmax(x)\n",
      "/opt/anaconda3/envs/MSCI623/lib/python3.11/site-packages/torch/nn/_reduction.py:42: UserWarning: size_average and reduce args will be deprecated, please use reduction='sum' instead.\n",
      "  warnings.warn(warning.format(ret))\n"
     ]
    },
    {
     "name": "stdout",
     "output_type": "stream",
     "text": [
      "\n",
      "Test set: Avg. loss: 2.3074, Accuracy: 918/10000 (9%)\n",
      "\n",
      "Train Epoch: 1 [0/60000 (0%)]\tLoss: 2.302089\n",
      "Train Epoch: 1 [640/60000 (1%)]\tLoss: 2.305638\n",
      "Train Epoch: 1 [1280/60000 (2%)]\tLoss: 2.332145\n",
      "Train Epoch: 1 [1920/60000 (3%)]\tLoss: 2.272092\n",
      "Train Epoch: 1 [2560/60000 (4%)]\tLoss: 2.308137\n",
      "Train Epoch: 1 [3200/60000 (5%)]\tLoss: 2.245898\n",
      "Train Epoch: 1 [3840/60000 (6%)]\tLoss: 2.229880\n",
      "Train Epoch: 1 [4480/60000 (7%)]\tLoss: 2.237232\n",
      "Train Epoch: 1 [5120/60000 (9%)]\tLoss: 2.174164\n",
      "Train Epoch: 1 [5760/60000 (10%)]\tLoss: 2.125534\n",
      "Train Epoch: 1 [6400/60000 (11%)]\tLoss: 2.148961\n",
      "Train Epoch: 1 [7040/60000 (12%)]\tLoss: 1.934557\n",
      "Train Epoch: 1 [7680/60000 (13%)]\tLoss: 1.825862\n",
      "Train Epoch: 1 [8320/60000 (14%)]\tLoss: 1.783877\n",
      "Train Epoch: 1 [8960/60000 (15%)]\tLoss: 1.632262\n",
      "Train Epoch: 1 [9600/60000 (16%)]\tLoss: 1.696360\n",
      "Train Epoch: 1 [10240/60000 (17%)]\tLoss: 1.486752\n",
      "Train Epoch: 1 [10880/60000 (18%)]\tLoss: 1.480923\n",
      "Train Epoch: 1 [11520/60000 (19%)]\tLoss: 1.188753\n",
      "Train Epoch: 1 [12160/60000 (20%)]\tLoss: 1.143317\n",
      "Train Epoch: 1 [12800/60000 (21%)]\tLoss: 1.074804\n",
      "Train Epoch: 1 [13440/60000 (22%)]\tLoss: 1.331388\n",
      "Train Epoch: 1 [14080/60000 (23%)]\tLoss: 1.021119\n",
      "Train Epoch: 1 [14720/60000 (25%)]\tLoss: 1.008274\n",
      "Train Epoch: 1 [15360/60000 (26%)]\tLoss: 0.934147\n",
      "Train Epoch: 1 [16000/60000 (27%)]\tLoss: 0.964393\n",
      "Train Epoch: 1 [16640/60000 (28%)]\tLoss: 0.721834\n",
      "Train Epoch: 1 [17280/60000 (29%)]\tLoss: 0.731079\n",
      "Train Epoch: 1 [17920/60000 (30%)]\tLoss: 0.789918\n",
      "Train Epoch: 1 [18560/60000 (31%)]\tLoss: 0.653395\n",
      "Train Epoch: 1 [19200/60000 (32%)]\tLoss: 0.731073\n",
      "Train Epoch: 1 [19840/60000 (33%)]\tLoss: 0.683533\n",
      "Train Epoch: 1 [20480/60000 (34%)]\tLoss: 0.618349\n",
      "Train Epoch: 1 [21120/60000 (35%)]\tLoss: 0.681717\n",
      "Train Epoch: 1 [21760/60000 (36%)]\tLoss: 1.012252\n",
      "Train Epoch: 1 [22400/60000 (37%)]\tLoss: 0.643638\n",
      "Train Epoch: 1 [23040/60000 (38%)]\tLoss: 0.934775\n",
      "Train Epoch: 1 [23680/60000 (39%)]\tLoss: 0.570466\n",
      "Train Epoch: 1 [24320/60000 (41%)]\tLoss: 1.015563\n",
      "Train Epoch: 1 [24960/60000 (42%)]\tLoss: 0.540915\n",
      "Train Epoch: 1 [25600/60000 (43%)]\tLoss: 0.720106\n",
      "Train Epoch: 1 [26240/60000 (44%)]\tLoss: 0.387172\n",
      "Train Epoch: 1 [26880/60000 (45%)]\tLoss: 0.620209\n",
      "Train Epoch: 1 [27520/60000 (46%)]\tLoss: 0.685075\n",
      "Train Epoch: 1 [28160/60000 (47%)]\tLoss: 0.522781\n",
      "Train Epoch: 1 [28800/60000 (48%)]\tLoss: 0.616372\n",
      "Train Epoch: 1 [29440/60000 (49%)]\tLoss: 0.381902\n",
      "Train Epoch: 1 [30080/60000 (50%)]\tLoss: 0.458043\n",
      "Train Epoch: 1 [30720/60000 (51%)]\tLoss: 0.943220\n",
      "Train Epoch: 1 [31360/60000 (52%)]\tLoss: 0.715608\n",
      "Train Epoch: 1 [32000/60000 (53%)]\tLoss: 0.373906\n",
      "Train Epoch: 1 [32640/60000 (54%)]\tLoss: 0.647851\n",
      "Train Epoch: 1 [33280/60000 (55%)]\tLoss: 0.656451\n",
      "Train Epoch: 1 [33920/60000 (57%)]\tLoss: 0.526767\n",
      "Train Epoch: 1 [34560/60000 (58%)]\tLoss: 0.539810\n",
      "Train Epoch: 1 [35200/60000 (59%)]\tLoss: 0.634474\n",
      "Train Epoch: 1 [35840/60000 (60%)]\tLoss: 0.630842\n",
      "Train Epoch: 1 [36480/60000 (61%)]\tLoss: 0.609649\n",
      "Train Epoch: 1 [37120/60000 (62%)]\tLoss: 0.470666\n",
      "Train Epoch: 1 [37760/60000 (63%)]\tLoss: 0.561561\n",
      "Train Epoch: 1 [38400/60000 (64%)]\tLoss: 0.387687\n",
      "Train Epoch: 1 [39040/60000 (65%)]\tLoss: 0.515179\n",
      "Train Epoch: 1 [39680/60000 (66%)]\tLoss: 0.577075\n",
      "Train Epoch: 1 [40320/60000 (67%)]\tLoss: 0.492980\n",
      "Train Epoch: 1 [40960/60000 (68%)]\tLoss: 0.859811\n",
      "Train Epoch: 1 [41600/60000 (69%)]\tLoss: 0.538315\n",
      "Train Epoch: 1 [42240/60000 (70%)]\tLoss: 0.463367\n",
      "Train Epoch: 1 [42880/60000 (71%)]\tLoss: 0.469226\n",
      "Train Epoch: 1 [43520/60000 (72%)]\tLoss: 0.336524\n",
      "Train Epoch: 1 [44160/60000 (74%)]\tLoss: 0.561749\n",
      "Train Epoch: 1 [44800/60000 (75%)]\tLoss: 0.644706\n",
      "Train Epoch: 1 [45440/60000 (76%)]\tLoss: 0.487464\n",
      "Train Epoch: 1 [46080/60000 (77%)]\tLoss: 0.557221\n",
      "Train Epoch: 1 [46720/60000 (78%)]\tLoss: 0.365468\n",
      "Train Epoch: 1 [47360/60000 (79%)]\tLoss: 0.512368\n",
      "Train Epoch: 1 [48000/60000 (80%)]\tLoss: 0.528781\n",
      "Train Epoch: 1 [48640/60000 (81%)]\tLoss: 0.621934\n",
      "Train Epoch: 1 [49280/60000 (82%)]\tLoss: 0.578479\n",
      "Train Epoch: 1 [49920/60000 (83%)]\tLoss: 0.467283\n",
      "Train Epoch: 1 [50560/60000 (84%)]\tLoss: 0.395541\n",
      "Train Epoch: 1 [51200/60000 (85%)]\tLoss: 0.382796\n",
      "Train Epoch: 1 [51840/60000 (86%)]\tLoss: 0.577234\n",
      "Train Epoch: 1 [52480/60000 (87%)]\tLoss: 0.467988\n",
      "Train Epoch: 1 [53120/60000 (88%)]\tLoss: 0.520723\n",
      "Train Epoch: 1 [53760/60000 (90%)]\tLoss: 0.589664\n",
      "Train Epoch: 1 [54400/60000 (91%)]\tLoss: 0.450678\n",
      "Train Epoch: 1 [55040/60000 (92%)]\tLoss: 0.507002\n",
      "Train Epoch: 1 [55680/60000 (93%)]\tLoss: 0.571442\n",
      "Train Epoch: 1 [56320/60000 (94%)]\tLoss: 0.261155\n",
      "Train Epoch: 1 [56960/60000 (95%)]\tLoss: 0.429145\n",
      "Train Epoch: 1 [57600/60000 (96%)]\tLoss: 0.574934\n",
      "Train Epoch: 1 [58240/60000 (97%)]\tLoss: 0.298971\n",
      "Train Epoch: 1 [58880/60000 (98%)]\tLoss: 0.448406\n",
      "Train Epoch: 1 [59520/60000 (99%)]\tLoss: 0.329199\n",
      "\n",
      "Test set: Avg. loss: 0.1630, Accuracy: 9541/10000 (95%)\n",
      "\n",
      "Train Epoch: 2 [0/60000 (0%)]\tLoss: 0.527915\n",
      "Train Epoch: 2 [640/60000 (1%)]\tLoss: 0.561899\n",
      "Train Epoch: 2 [1280/60000 (2%)]\tLoss: 0.289583\n",
      "Train Epoch: 2 [1920/60000 (3%)]\tLoss: 0.235913\n",
      "Train Epoch: 2 [2560/60000 (4%)]\tLoss: 0.346078\n",
      "Train Epoch: 2 [3200/60000 (5%)]\tLoss: 0.362128\n",
      "Train Epoch: 2 [3840/60000 (6%)]\tLoss: 0.313895\n",
      "Train Epoch: 2 [4480/60000 (7%)]\tLoss: 0.511161\n",
      "Train Epoch: 2 [5120/60000 (9%)]\tLoss: 0.320177\n",
      "Train Epoch: 2 [5760/60000 (10%)]\tLoss: 0.297306\n",
      "Train Epoch: 2 [6400/60000 (11%)]\tLoss: 0.511477\n",
      "Train Epoch: 2 [7040/60000 (12%)]\tLoss: 0.336746\n",
      "Train Epoch: 2 [7680/60000 (13%)]\tLoss: 0.537266\n",
      "Train Epoch: 2 [8320/60000 (14%)]\tLoss: 0.512527\n",
      "Train Epoch: 2 [8960/60000 (15%)]\tLoss: 0.366430\n",
      "Train Epoch: 2 [9600/60000 (16%)]\tLoss: 0.302832\n",
      "Train Epoch: 2 [10240/60000 (17%)]\tLoss: 0.413521\n",
      "Train Epoch: 2 [10880/60000 (18%)]\tLoss: 0.401034\n",
      "Train Epoch: 2 [11520/60000 (19%)]\tLoss: 0.435959\n",
      "Train Epoch: 2 [12160/60000 (20%)]\tLoss: 0.358859\n",
      "Train Epoch: 2 [12800/60000 (21%)]\tLoss: 0.431350\n",
      "Train Epoch: 2 [13440/60000 (22%)]\tLoss: 0.389131\n",
      "Train Epoch: 2 [14080/60000 (23%)]\tLoss: 0.332098\n",
      "Train Epoch: 2 [14720/60000 (25%)]\tLoss: 0.396714\n",
      "Train Epoch: 2 [15360/60000 (26%)]\tLoss: 0.565589\n",
      "Train Epoch: 2 [16000/60000 (27%)]\tLoss: 0.429939\n",
      "Train Epoch: 2 [16640/60000 (28%)]\tLoss: 0.329938\n",
      "Train Epoch: 2 [17280/60000 (29%)]\tLoss: 0.294070\n",
      "Train Epoch: 2 [17920/60000 (30%)]\tLoss: 0.442396\n",
      "Train Epoch: 2 [18560/60000 (31%)]\tLoss: 0.342679\n",
      "Train Epoch: 2 [19200/60000 (32%)]\tLoss: 0.384915\n",
      "Train Epoch: 2 [19840/60000 (33%)]\tLoss: 0.472113\n",
      "Train Epoch: 2 [20480/60000 (34%)]\tLoss: 0.409315\n",
      "Train Epoch: 2 [21120/60000 (35%)]\tLoss: 0.368544\n",
      "Train Epoch: 2 [21760/60000 (36%)]\tLoss: 0.490753\n",
      "Train Epoch: 2 [22400/60000 (37%)]\tLoss: 0.506915\n",
      "Train Epoch: 2 [23040/60000 (38%)]\tLoss: 0.373481\n",
      "Train Epoch: 2 [23680/60000 (39%)]\tLoss: 0.373368\n",
      "Train Epoch: 2 [24320/60000 (41%)]\tLoss: 0.269362\n",
      "Train Epoch: 2 [24960/60000 (42%)]\tLoss: 0.396231\n",
      "Train Epoch: 2 [25600/60000 (43%)]\tLoss: 0.468617\n",
      "Train Epoch: 2 [26240/60000 (44%)]\tLoss: 0.222276\n",
      "Train Epoch: 2 [26880/60000 (45%)]\tLoss: 0.224681\n",
      "Train Epoch: 2 [27520/60000 (46%)]\tLoss: 0.330973\n",
      "Train Epoch: 2 [28160/60000 (47%)]\tLoss: 0.299326\n",
      "Train Epoch: 2 [28800/60000 (48%)]\tLoss: 0.313295\n",
      "Train Epoch: 2 [29440/60000 (49%)]\tLoss: 0.240803\n",
      "Train Epoch: 2 [30080/60000 (50%)]\tLoss: 0.515046\n",
      "Train Epoch: 2 [30720/60000 (51%)]\tLoss: 0.431633\n",
      "Train Epoch: 2 [31360/60000 (52%)]\tLoss: 0.566869\n",
      "Train Epoch: 2 [32000/60000 (53%)]\tLoss: 0.259950\n",
      "Train Epoch: 2 [32640/60000 (54%)]\tLoss: 0.323062\n",
      "Train Epoch: 2 [33280/60000 (55%)]\tLoss: 0.276520\n",
      "Train Epoch: 2 [33920/60000 (57%)]\tLoss: 0.603077\n",
      "Train Epoch: 2 [34560/60000 (58%)]\tLoss: 0.377356\n",
      "Train Epoch: 2 [35200/60000 (59%)]\tLoss: 0.386223\n",
      "Train Epoch: 2 [35840/60000 (60%)]\tLoss: 0.265851\n",
      "Train Epoch: 2 [36480/60000 (61%)]\tLoss: 0.384723\n",
      "Train Epoch: 2 [37120/60000 (62%)]\tLoss: 0.244876\n",
      "Train Epoch: 2 [37760/60000 (63%)]\tLoss: 0.291779\n",
      "Train Epoch: 2 [38400/60000 (64%)]\tLoss: 0.376656\n",
      "Train Epoch: 2 [39040/60000 (65%)]\tLoss: 0.263437\n",
      "Train Epoch: 2 [39680/60000 (66%)]\tLoss: 0.723663\n",
      "Train Epoch: 2 [40320/60000 (67%)]\tLoss: 0.273240\n",
      "Train Epoch: 2 [40960/60000 (68%)]\tLoss: 0.578013\n",
      "Train Epoch: 2 [41600/60000 (69%)]\tLoss: 0.388421\n",
      "Train Epoch: 2 [42240/60000 (70%)]\tLoss: 0.261361\n",
      "Train Epoch: 2 [42880/60000 (71%)]\tLoss: 0.355171\n",
      "Train Epoch: 2 [43520/60000 (72%)]\tLoss: 0.378746\n",
      "Train Epoch: 2 [44160/60000 (74%)]\tLoss: 0.225428\n",
      "Train Epoch: 2 [44800/60000 (75%)]\tLoss: 0.293771\n",
      "Train Epoch: 2 [45440/60000 (76%)]\tLoss: 0.371349\n",
      "Train Epoch: 2 [46080/60000 (77%)]\tLoss: 0.345049\n",
      "Train Epoch: 2 [46720/60000 (78%)]\tLoss: 0.671499\n",
      "Train Epoch: 2 [47360/60000 (79%)]\tLoss: 0.220858\n",
      "Train Epoch: 2 [48000/60000 (80%)]\tLoss: 0.456088\n",
      "Train Epoch: 2 [48640/60000 (81%)]\tLoss: 0.326051\n",
      "Train Epoch: 2 [49280/60000 (82%)]\tLoss: 0.351031\n",
      "Train Epoch: 2 [49920/60000 (83%)]\tLoss: 0.558469\n",
      "Train Epoch: 2 [50560/60000 (84%)]\tLoss: 0.210838\n",
      "Train Epoch: 2 [51200/60000 (85%)]\tLoss: 0.591478\n",
      "Train Epoch: 2 [51840/60000 (86%)]\tLoss: 0.328251\n",
      "Train Epoch: 2 [52480/60000 (87%)]\tLoss: 0.442755\n",
      "Train Epoch: 2 [53120/60000 (88%)]\tLoss: 0.266719\n",
      "Train Epoch: 2 [53760/60000 (90%)]\tLoss: 0.220066\n",
      "Train Epoch: 2 [54400/60000 (91%)]\tLoss: 0.461853\n",
      "Train Epoch: 2 [55040/60000 (92%)]\tLoss: 0.196529\n",
      "Train Epoch: 2 [55680/60000 (93%)]\tLoss: 0.367491\n",
      "Train Epoch: 2 [56320/60000 (94%)]\tLoss: 0.485284\n",
      "Train Epoch: 2 [56960/60000 (95%)]\tLoss: 0.510985\n",
      "Train Epoch: 2 [57600/60000 (96%)]\tLoss: 0.274475\n",
      "Train Epoch: 2 [58240/60000 (97%)]\tLoss: 0.145774\n",
      "Train Epoch: 2 [58880/60000 (98%)]\tLoss: 0.367242\n",
      "Train Epoch: 2 [59520/60000 (99%)]\tLoss: 0.182583\n",
      "\n",
      "Test set: Avg. loss: 0.1122, Accuracy: 9653/10000 (97%)\n",
      "\n",
      "Train Epoch: 3 [0/60000 (0%)]\tLoss: 0.461581\n",
      "Train Epoch: 3 [640/60000 (1%)]\tLoss: 0.310113\n",
      "Train Epoch: 3 [1280/60000 (2%)]\tLoss: 0.197635\n",
      "Train Epoch: 3 [1920/60000 (3%)]\tLoss: 0.268769\n",
      "Train Epoch: 3 [2560/60000 (4%)]\tLoss: 0.387883\n",
      "Train Epoch: 3 [3200/60000 (5%)]\tLoss: 0.598286\n",
      "Train Epoch: 3 [3840/60000 (6%)]\tLoss: 0.501662\n",
      "Train Epoch: 3 [4480/60000 (7%)]\tLoss: 0.228121\n",
      "Train Epoch: 3 [5120/60000 (9%)]\tLoss: 0.313321\n",
      "Train Epoch: 3 [5760/60000 (10%)]\tLoss: 0.377532\n",
      "Train Epoch: 3 [6400/60000 (11%)]\tLoss: 0.154047\n",
      "Train Epoch: 3 [7040/60000 (12%)]\tLoss: 0.341958\n",
      "Train Epoch: 3 [7680/60000 (13%)]\tLoss: 0.196553\n",
      "Train Epoch: 3 [8320/60000 (14%)]\tLoss: 0.343344\n",
      "Train Epoch: 3 [8960/60000 (15%)]\tLoss: 0.454621\n",
      "Train Epoch: 3 [9600/60000 (16%)]\tLoss: 0.334675\n",
      "Train Epoch: 3 [10240/60000 (17%)]\tLoss: 0.208273\n",
      "Train Epoch: 3 [10880/60000 (18%)]\tLoss: 0.294206\n",
      "Train Epoch: 3 [11520/60000 (19%)]\tLoss: 0.181047\n",
      "Train Epoch: 3 [12160/60000 (20%)]\tLoss: 0.342261\n",
      "Train Epoch: 3 [12800/60000 (21%)]\tLoss: 0.338262\n",
      "Train Epoch: 3 [13440/60000 (22%)]\tLoss: 0.231735\n",
      "Train Epoch: 3 [14080/60000 (23%)]\tLoss: 0.534041\n",
      "Train Epoch: 3 [14720/60000 (25%)]\tLoss: 0.302724\n",
      "Train Epoch: 3 [15360/60000 (26%)]\tLoss: 0.352821\n",
      "Train Epoch: 3 [16000/60000 (27%)]\tLoss: 0.186011\n",
      "Train Epoch: 3 [16640/60000 (28%)]\tLoss: 0.205372\n",
      "Train Epoch: 3 [17280/60000 (29%)]\tLoss: 0.225546\n",
      "Train Epoch: 3 [17920/60000 (30%)]\tLoss: 0.240859\n",
      "Train Epoch: 3 [18560/60000 (31%)]\tLoss: 0.277728\n",
      "Train Epoch: 3 [19200/60000 (32%)]\tLoss: 0.445323\n",
      "Train Epoch: 3 [19840/60000 (33%)]\tLoss: 0.404504\n",
      "Train Epoch: 3 [20480/60000 (34%)]\tLoss: 0.368640\n",
      "Train Epoch: 3 [21120/60000 (35%)]\tLoss: 0.194142\n",
      "Train Epoch: 3 [21760/60000 (36%)]\tLoss: 0.382587\n",
      "Train Epoch: 3 [22400/60000 (37%)]\tLoss: 0.353639\n",
      "Train Epoch: 3 [23040/60000 (38%)]\tLoss: 0.400188\n",
      "Train Epoch: 3 [23680/60000 (39%)]\tLoss: 0.537748\n",
      "Train Epoch: 3 [24320/60000 (41%)]\tLoss: 0.147629\n",
      "Train Epoch: 3 [24960/60000 (42%)]\tLoss: 0.324311\n",
      "Train Epoch: 3 [25600/60000 (43%)]\tLoss: 0.280218\n",
      "Train Epoch: 3 [26240/60000 (44%)]\tLoss: 0.193549\n",
      "Train Epoch: 3 [26880/60000 (45%)]\tLoss: 0.347269\n",
      "Train Epoch: 3 [27520/60000 (46%)]\tLoss: 0.199238\n",
      "Train Epoch: 3 [28160/60000 (47%)]\tLoss: 0.203990\n",
      "Train Epoch: 3 [28800/60000 (48%)]\tLoss: 0.175201\n",
      "Train Epoch: 3 [29440/60000 (49%)]\tLoss: 0.269027\n",
      "Train Epoch: 3 [30080/60000 (50%)]\tLoss: 0.510910\n",
      "Train Epoch: 3 [30720/60000 (51%)]\tLoss: 0.390426\n",
      "Train Epoch: 3 [31360/60000 (52%)]\tLoss: 0.242666\n",
      "Train Epoch: 3 [32000/60000 (53%)]\tLoss: 0.306267\n",
      "Train Epoch: 3 [32640/60000 (54%)]\tLoss: 0.143932\n",
      "Train Epoch: 3 [33280/60000 (55%)]\tLoss: 0.240634\n",
      "Train Epoch: 3 [33920/60000 (57%)]\tLoss: 0.400355\n",
      "Train Epoch: 3 [34560/60000 (58%)]\tLoss: 0.214284\n",
      "Train Epoch: 3 [35200/60000 (59%)]\tLoss: 0.438181\n",
      "Train Epoch: 3 [35840/60000 (60%)]\tLoss: 0.341663\n",
      "Train Epoch: 3 [36480/60000 (61%)]\tLoss: 0.044619\n",
      "Train Epoch: 3 [37120/60000 (62%)]\tLoss: 0.378100\n",
      "Train Epoch: 3 [37760/60000 (63%)]\tLoss: 0.498626\n",
      "Train Epoch: 3 [38400/60000 (64%)]\tLoss: 0.218698\n",
      "Train Epoch: 3 [39040/60000 (65%)]\tLoss: 0.150501\n",
      "Train Epoch: 3 [39680/60000 (66%)]\tLoss: 0.206349\n",
      "Train Epoch: 3 [40320/60000 (67%)]\tLoss: 0.321375\n",
      "Train Epoch: 3 [40960/60000 (68%)]\tLoss: 0.097423\n",
      "Train Epoch: 3 [41600/60000 (69%)]\tLoss: 0.228545\n",
      "Train Epoch: 3 [42240/60000 (70%)]\tLoss: 0.289401\n",
      "Train Epoch: 3 [42880/60000 (71%)]\tLoss: 0.281798\n",
      "Train Epoch: 3 [43520/60000 (72%)]\tLoss: 0.114356\n",
      "Train Epoch: 3 [44160/60000 (74%)]\tLoss: 0.247266\n",
      "Train Epoch: 3 [44800/60000 (75%)]\tLoss: 0.308253\n",
      "Train Epoch: 3 [45440/60000 (76%)]\tLoss: 0.264998\n",
      "Train Epoch: 3 [46080/60000 (77%)]\tLoss: 0.411216\n",
      "Train Epoch: 3 [46720/60000 (78%)]\tLoss: 0.284369\n",
      "Train Epoch: 3 [47360/60000 (79%)]\tLoss: 0.580741\n",
      "Train Epoch: 3 [48000/60000 (80%)]\tLoss: 0.325560\n",
      "Train Epoch: 3 [48640/60000 (81%)]\tLoss: 0.291648\n",
      "Train Epoch: 3 [49280/60000 (82%)]\tLoss: 0.166816\n",
      "Train Epoch: 3 [49920/60000 (83%)]\tLoss: 0.287145\n",
      "Train Epoch: 3 [50560/60000 (84%)]\tLoss: 0.190894\n",
      "Train Epoch: 3 [51200/60000 (85%)]\tLoss: 0.334401\n",
      "Train Epoch: 3 [51840/60000 (86%)]\tLoss: 0.124552\n",
      "Train Epoch: 3 [52480/60000 (87%)]\tLoss: 0.167553\n",
      "Train Epoch: 3 [53120/60000 (88%)]\tLoss: 0.461567\n",
      "Train Epoch: 3 [53760/60000 (90%)]\tLoss: 0.276074\n",
      "Train Epoch: 3 [54400/60000 (91%)]\tLoss: 0.225934\n",
      "Train Epoch: 3 [55040/60000 (92%)]\tLoss: 0.472507\n",
      "Train Epoch: 3 [55680/60000 (93%)]\tLoss: 0.189638\n",
      "Train Epoch: 3 [56320/60000 (94%)]\tLoss: 0.254717\n",
      "Train Epoch: 3 [56960/60000 (95%)]\tLoss: 0.305218\n",
      "Train Epoch: 3 [57600/60000 (96%)]\tLoss: 0.158467\n",
      "Train Epoch: 3 [58240/60000 (97%)]\tLoss: 0.129930\n",
      "Train Epoch: 3 [58880/60000 (98%)]\tLoss: 0.374331\n",
      "Train Epoch: 3 [59520/60000 (99%)]\tLoss: 0.340049\n",
      "\n",
      "Test set: Avg. loss: 0.0892, Accuracy: 9724/10000 (97%)\n",
      "\n"
     ]
    }
   ],
   "source": [
    "test()\n",
    "for epoch in range(1, n_epochs+1):\n",
    "    train(epoch)\n",
    "    test()"
   ]
  },
  {
   "cell_type": "code",
   "execution_count": 39,
   "metadata": {},
   "outputs": [
    {
     "ename": "ValueError",
     "evalue": "x and y must be the same size",
     "output_type": "error",
     "traceback": [
      "\u001b[0;31m---------------------------------------------------------------------------\u001b[0m",
      "\u001b[0;31mValueError\u001b[0m                                Traceback (most recent call last)",
      "Cell \u001b[0;32mIn[39], line 3\u001b[0m\n\u001b[1;32m      1\u001b[0m fig \u001b[39m=\u001b[39m plt\u001b[39m.\u001b[39mfigure()\n\u001b[1;32m      2\u001b[0m plt\u001b[39m.\u001b[39mplot(train_counter, train_losses, color\u001b[39m=\u001b[39m\u001b[39m'\u001b[39m\u001b[39mblue\u001b[39m\u001b[39m'\u001b[39m)\n\u001b[0;32m----> 3\u001b[0m plt\u001b[39m.\u001b[39;49mscatter(test_counter, test_losses, color\u001b[39m=\u001b[39;49m\u001b[39m'\u001b[39;49m\u001b[39mred\u001b[39;49m\u001b[39m'\u001b[39;49m)\n\u001b[1;32m      4\u001b[0m plt\u001b[39m.\u001b[39mlegend([\u001b[39m'\u001b[39m\u001b[39mTrain Loss\u001b[39m\u001b[39m'\u001b[39m, \u001b[39m'\u001b[39m\u001b[39mTest Loss\u001b[39m\u001b[39m'\u001b[39m], loc\u001b[39m=\u001b[39m\u001b[39m'\u001b[39m\u001b[39mupper right\u001b[39m\u001b[39m'\u001b[39m)\n",
      "File \u001b[0;32m/opt/anaconda3/envs/MSCI623/lib/python3.11/site-packages/matplotlib/pyplot.py:3699\u001b[0m, in \u001b[0;36mscatter\u001b[0;34m(x, y, s, c, marker, cmap, norm, vmin, vmax, alpha, linewidths, edgecolors, plotnonfinite, data, **kwargs)\u001b[0m\n\u001b[1;32m   3680\u001b[0m \u001b[39m@_copy_docstring_and_deprecators\u001b[39m(Axes\u001b[39m.\u001b[39mscatter)\n\u001b[1;32m   3681\u001b[0m \u001b[39mdef\u001b[39;00m \u001b[39mscatter\u001b[39m(\n\u001b[1;32m   3682\u001b[0m     x: \u001b[39mfloat\u001b[39m \u001b[39m|\u001b[39m ArrayLike,\n\u001b[0;32m   (...)\u001b[0m\n\u001b[1;32m   3697\u001b[0m     \u001b[39m*\u001b[39m\u001b[39m*\u001b[39mkwargs,\n\u001b[1;32m   3698\u001b[0m ) \u001b[39m-\u001b[39m\u001b[39m>\u001b[39m PathCollection:\n\u001b[0;32m-> 3699\u001b[0m     __ret \u001b[39m=\u001b[39m gca()\u001b[39m.\u001b[39;49mscatter(\n\u001b[1;32m   3700\u001b[0m         x,\n\u001b[1;32m   3701\u001b[0m         y,\n\u001b[1;32m   3702\u001b[0m         s\u001b[39m=\u001b[39;49ms,\n\u001b[1;32m   3703\u001b[0m         c\u001b[39m=\u001b[39;49mc,\n\u001b[1;32m   3704\u001b[0m         marker\u001b[39m=\u001b[39;49mmarker,\n\u001b[1;32m   3705\u001b[0m         cmap\u001b[39m=\u001b[39;49mcmap,\n\u001b[1;32m   3706\u001b[0m         norm\u001b[39m=\u001b[39;49mnorm,\n\u001b[1;32m   3707\u001b[0m         vmin\u001b[39m=\u001b[39;49mvmin,\n\u001b[1;32m   3708\u001b[0m         vmax\u001b[39m=\u001b[39;49mvmax,\n\u001b[1;32m   3709\u001b[0m         alpha\u001b[39m=\u001b[39;49malpha,\n\u001b[1;32m   3710\u001b[0m         linewidths\u001b[39m=\u001b[39;49mlinewidths,\n\u001b[1;32m   3711\u001b[0m         edgecolors\u001b[39m=\u001b[39;49medgecolors,\n\u001b[1;32m   3712\u001b[0m         plotnonfinite\u001b[39m=\u001b[39;49mplotnonfinite,\n\u001b[1;32m   3713\u001b[0m         \u001b[39m*\u001b[39;49m\u001b[39m*\u001b[39;49m({\u001b[39m\"\u001b[39;49m\u001b[39mdata\u001b[39;49m\u001b[39m\"\u001b[39;49m: data} \u001b[39mif\u001b[39;49;00m data \u001b[39mis\u001b[39;49;00m \u001b[39mnot\u001b[39;49;00m \u001b[39mNone\u001b[39;49;00m \u001b[39melse\u001b[39;49;00m {}),\n\u001b[1;32m   3714\u001b[0m         \u001b[39m*\u001b[39;49m\u001b[39m*\u001b[39;49mkwargs,\n\u001b[1;32m   3715\u001b[0m     )\n\u001b[1;32m   3716\u001b[0m     sci(__ret)\n\u001b[1;32m   3717\u001b[0m     \u001b[39mreturn\u001b[39;00m __ret\n",
      "File \u001b[0;32m/opt/anaconda3/envs/MSCI623/lib/python3.11/site-packages/matplotlib/__init__.py:1465\u001b[0m, in \u001b[0;36m_preprocess_data.<locals>.inner\u001b[0;34m(ax, data, *args, **kwargs)\u001b[0m\n\u001b[1;32m   1462\u001b[0m \u001b[39m@functools\u001b[39m\u001b[39m.\u001b[39mwraps(func)\n\u001b[1;32m   1463\u001b[0m \u001b[39mdef\u001b[39;00m \u001b[39minner\u001b[39m(ax, \u001b[39m*\u001b[39margs, data\u001b[39m=\u001b[39m\u001b[39mNone\u001b[39;00m, \u001b[39m*\u001b[39m\u001b[39m*\u001b[39mkwargs):\n\u001b[1;32m   1464\u001b[0m     \u001b[39mif\u001b[39;00m data \u001b[39mis\u001b[39;00m \u001b[39mNone\u001b[39;00m:\n\u001b[0;32m-> 1465\u001b[0m         \u001b[39mreturn\u001b[39;00m func(ax, \u001b[39m*\u001b[39;49m\u001b[39mmap\u001b[39;49m(sanitize_sequence, args), \u001b[39m*\u001b[39;49m\u001b[39m*\u001b[39;49mkwargs)\n\u001b[1;32m   1467\u001b[0m     bound \u001b[39m=\u001b[39m new_sig\u001b[39m.\u001b[39mbind(ax, \u001b[39m*\u001b[39margs, \u001b[39m*\u001b[39m\u001b[39m*\u001b[39mkwargs)\n\u001b[1;32m   1468\u001b[0m     auto_label \u001b[39m=\u001b[39m (bound\u001b[39m.\u001b[39marguments\u001b[39m.\u001b[39mget(label_namer)\n\u001b[1;32m   1469\u001b[0m                   \u001b[39mor\u001b[39;00m bound\u001b[39m.\u001b[39mkwargs\u001b[39m.\u001b[39mget(label_namer))\n",
      "File \u001b[0;32m/opt/anaconda3/envs/MSCI623/lib/python3.11/site-packages/matplotlib/axes/_axes.py:4655\u001b[0m, in \u001b[0;36mAxes.scatter\u001b[0;34m(self, x, y, s, c, marker, cmap, norm, vmin, vmax, alpha, linewidths, edgecolors, plotnonfinite, **kwargs)\u001b[0m\n\u001b[1;32m   4653\u001b[0m y \u001b[39m=\u001b[39m np\u001b[39m.\u001b[39mma\u001b[39m.\u001b[39mravel(y)\n\u001b[1;32m   4654\u001b[0m \u001b[39mif\u001b[39;00m x\u001b[39m.\u001b[39msize \u001b[39m!=\u001b[39m y\u001b[39m.\u001b[39msize:\n\u001b[0;32m-> 4655\u001b[0m     \u001b[39mraise\u001b[39;00m \u001b[39mValueError\u001b[39;00m(\u001b[39m\"\u001b[39m\u001b[39mx and y must be the same size\u001b[39m\u001b[39m\"\u001b[39m)\n\u001b[1;32m   4657\u001b[0m \u001b[39mif\u001b[39;00m s \u001b[39mis\u001b[39;00m \u001b[39mNone\u001b[39;00m:\n\u001b[1;32m   4658\u001b[0m     s \u001b[39m=\u001b[39m (\u001b[39m20\u001b[39m \u001b[39mif\u001b[39;00m mpl\u001b[39m.\u001b[39mrcParams[\u001b[39m'\u001b[39m\u001b[39m_internal.classic_mode\u001b[39m\u001b[39m'\u001b[39m] \u001b[39melse\u001b[39;00m\n\u001b[1;32m   4659\u001b[0m          mpl\u001b[39m.\u001b[39mrcParams[\u001b[39m'\u001b[39m\u001b[39mlines.markersize\u001b[39m\u001b[39m'\u001b[39m] \u001b[39m*\u001b[39m\u001b[39m*\u001b[39m \u001b[39m2.0\u001b[39m)\n",
      "\u001b[0;31mValueError\u001b[0m: x and y must be the same size"
     ]
    },
    {
     "data": {
      "image/png": "[encoded data removed]",
      "text/plain": [
       "<Figure size 640x480 with 1 Axes>"
      ]
     },
     "metadata": {},
     "output_type": "display_data"
    }
   ],
   "source": [
    "fig = plt.figure()\n",
    "plt.plot(train_counter, train_losses, color='blue')\n",
    "plt.scatter(test_counter, test_losses, color='red')\n",
    "plt.legend(['Train Loss', 'Test Loss'], loc='upper right')"
   ]
  },
  {
   "cell_type": "code",
   "execution_count": 40,
   "metadata": {},
   "outputs": [
    {
     "name": "stderr",
     "output_type": "stream",
     "text": [
      "/var/folders/9t/ywq9gg3s4zbgn2zw5tfskbv00000gn/T/ipykernel_66225/410077737.py:18: UserWarning: Implicit dimension choice for log_softmax has been deprecated. Change the call to include dim=X as an argument.\n",
      "  return F.log_softmax(x)\n"
     ]
    }
   ],
   "source": [
    "with torch.no_grad():\n",
    "    output = network(example_data)"
   ]
  },
  {
   "cell_type": "code",
   "execution_count": 41,
   "metadata": {},
   "outputs": [
    {
     "data": {
      "image/png": "[encoded data removed]",
      "text/plain": [
       "<Figure size 640x480 with 6 Axes>"
      ]
     },
     "execution_count": 41,
     "metadata": {},
     "output_type": "execute_result"
    },
    {
     "data": {
      "image/png": "[encoded data removed]",
      "text/plain": [
       "<Figure size 640x480 with 6 Axes>"
      ]
     },
     "metadata": {},
     "output_type": "display_data"
    }
   ],
   "source": [
    "fig = plt.figure()\n",
    "for i in range(6):\n",
    "  plt.subplot(2,3,i+1)\n",
    "  plt.tight_layout()\n",
    "  plt.imshow(example_data[i][0], cmap='gray', interpolation='none')\n",
    "  plt.title(\"Prediction: {}\".format(\n",
    "    output.data.max(1, keepdim=True)[1][i].item()))\n",
    "  plt.xticks([])\n",
    "  plt.yticks([])\n",
    "fig"
   ]
  },
  {
   "attachments": {},
   "cell_type": "markdown",
   "metadata": {},
   "source": [
    "# Continue training from saved states"
   ]
  },
  {
   "cell_type": "code",
   "execution_count": 43,
   "metadata": {},
   "outputs": [],
   "source": [
    "continued_network = Net()\n",
    "continued_optimizer = optim.SGD(network.parameters(), lr = learning_rate, momentum=momentum)"
   ]
  },
  {
   "cell_type": "code",
   "execution_count": 44,
   "metadata": {},
   "outputs": [],
   "source": [
    "#load the network states to continue training\n",
    "network_state_dict = torch.load('./results/model.pth')\n",
    "continued_network.load_state_dict(network_state_dict)\n",
    "\n",
    "optimizer_state_dict = torch.load('./results/optimizer.pth')\n",
    "continued_optimizer.load_state_dict(optimizer_state_dict)"
   ]
  },
  {
   "cell_type": "code",
   "execution_count": null,
   "metadata": {},
   "outputs": [],
   "source": [
    "for i in range(4, 9):\n",
    "    test_counter.append(i * len(train_loader.dataset))\n",
    "    train(i)\n",
    "    test()"
   ]
  }
 ],
 "metadata": {
  "kernelspec": {
   "display_name": "finance",
   "language": "python",
   "name": "python3"
  },
  "language_info": {
   "codemirror_mode": {
    "name": "ipython",
    "version": 3
   },
   "file_extension": ".py",
   "mimetype": "text/x-python",
   "name": "python",
   "nbconvert_exporter": "python",
   "pygments_lexer": "ipython3",
   "version": "3.11.9"
  },
  "orig_nbformat": 4
 },
 "nbformat": 4,
 "nbformat_minor": 2
}
